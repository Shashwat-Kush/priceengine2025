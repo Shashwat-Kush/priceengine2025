{
 "cells": [
  {
   "cell_type": "code",
   "execution_count": 1,
   "id": "c90dc819",
   "metadata": {},
   "outputs": [
    {
     "name": "stderr",
     "output_type": "stream",
     "text": [
      "/Users/shashwatkushwaha/anaconda3/lib/python3.11/site-packages/pandas/core/arrays/masked.py:60: UserWarning: Pandas requires version '1.3.6' or newer of 'bottleneck' (version '1.3.5' currently installed).\n",
      "  from pandas.core import (\n"
     ]
    }
   ],
   "source": [
    "import pandas as pd\n",
    "import numpy as np\n",
    "\n",
    "df_customers = pd.read_csv('/Users/shashwatkushwaha/Desktop/MTP/Promotional_Engine/datasets/Retail_data_Kaggle/Customer_Demographics.csv')\n",
    "df_inventory = pd.read_csv('/Users/shashwatkushwaha/Desktop/MTP/Promotional_Engine/datasets/Retail_data_Kaggle/Inventory_Data.csv')\n",
    "df_logistics = pd.read_csv('/Users/shashwatkushwaha/Desktop/MTP/Promotional_Engine/datasets/Retail_data_Kaggle/Logistics_Data.csv')\n",
    "df_monthplan = pd.read_csv('/Users/shashwatkushwaha/Desktop/MTP/Promotional_Engine/datasets/Retail_data_Kaggle/Monthly_Seasonal_Planning.csv')\n",
    "df_sales = pd.read_csv('/Users/shashwatkushwaha/Desktop/MTP/Promotional_Engine/datasets/Retail_data_Kaggle/Sales_Data.csv')\n",
    "df_product = pd.read_csv('/Users/shashwatkushwaha/Desktop/MTP/Promotional_Engine/datasets/Retail_data_Kaggle/Product_Information.csv')\n",
    "df_promotions = pd.read_csv('/Users/shashwatkushwaha/Desktop/MTP/Promotional_Engine/datasets/Retail_data_Kaggle/Promotions_and_Discounts.csv')\n",
    "df_sites = pd.read_csv('/Users/shashwatkushwaha/Desktop/MTP/Promotional_Engine/datasets/Retail_data_Kaggle/Site_Details.csv')"
   ]
  },
  {
   "cell_type": "code",
   "execution_count": null,
   "id": "65526fc2",
   "metadata": {},
   "outputs": [],
   "source": []
  }
 ],
 "metadata": {
  "kernelspec": {
   "display_name": "base",
   "language": "python",
   "name": "python3"
  },
  "language_info": {
   "codemirror_mode": {
    "name": "ipython",
    "version": 3
   },
   "file_extension": ".py",
   "mimetype": "text/x-python",
   "name": "python",
   "nbconvert_exporter": "python",
   "pygments_lexer": "ipython3",
   "version": "3.11.3"
  }
 },
 "nbformat": 4,
 "nbformat_minor": 5
}
